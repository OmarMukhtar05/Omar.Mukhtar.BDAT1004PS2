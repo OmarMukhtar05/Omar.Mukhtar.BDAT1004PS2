{
 "cells": [
  {
   "cell_type": "markdown",
   "id": "93563dd2",
   "metadata": {},
   "source": [
    "# Answer 1:"
   ]
  },
  {
   "cell_type": "code",
   "execution_count": 9,
   "id": "60ad4a65",
   "metadata": {},
   "outputs": [
    {
     "name": "stdout",
     "output_type": "stream",
     "text": [
      "6\n"
     ]
    }
   ],
   "source": [
    "a = 0         # After importing the module, the variable 'a' is assigned the initial value of 0\n",
    "\n",
    "def b():          \n",
    "    global a           \n",
    "    a = c(a)\n",
    "\n",
    "def c(a):\n",
    "    return a + 2\n",
    "\n",
    "b()              # When the function b() is executed for the first time, it encounters the global keyword, indicating that the variable a inside the function refers to the global variable a defined in the module scope. It then calls the function c(a) with the current value of a, which is 0. The function c(a) returns a + 2, which is 0 + 2, resulting in the updated value of a as 2.\n",
    "b()              # When the function b() is executed for the second time, it again encounters the global keyword, indicating that the variable a inside the function refers to the global variable a defined in the module scope. It calls the function c(a) with the current value of a, which is now 2. The function c(a) returns a + 2, which is 2 + 2, resulting in the updated value of a as 4.\n",
    "b()              # When the function b() is executed for the third time, it encounters the global keyword and calls the function c(a) with the current value of a, which is 4. The function c(a) returns a + 2, which is 4 + 2, resulting in the updated value of a as 6.\n",
    "\n",
    "print(a)        # Finally, when the last expression a is evaluated, it returns the current value of a, which is 6."
   ]
  },
  {
   "cell_type": "markdown",
   "id": "85d1ddc7",
   "metadata": {},
   "source": [
    "# Answer 2:\n"
   ]
  },
  {
   "cell_type": "code",
   "execution_count": 1,
   "id": "ec8763b3",
   "metadata": {},
   "outputs": [
    {
     "name": "stdout",
     "output_type": "stream",
     "text": [
      "File midterm.py not found.\n",
      "File idterm.py not found.\n"
     ]
    }
   ],
   "source": [
    "def fileLength(filename):\n",
    "    try:                                       \n",
    "        infile = open(filename)\n",
    "        content = infile.read()\n",
    "        infile.close()\n",
    "        return len(content)\n",
    "    except FileNotFoundError:\n",
    "        print(f\"File {filename} not found.\")\n",
    "fileLength('midterm.py')\n",
    "fileLength('idterm.py')"
   ]
  },
  {
   "cell_type": "markdown",
   "id": "8b3d6801",
   "metadata": {},
   "source": [
    "# Answer 3:"
   ]
  },
  {
   "cell_type": "code",
   "execution_count": 5,
   "id": "ce2de3f6",
   "metadata": {},
   "outputs": [
    {
     "name": "stdout",
     "output_type": "stream",
     "text": [
      "['doll', 'firetruck', 'kitten']\n",
      "I am a Kangaroo located at coordinates (0,0)\n",
      "['doll', 'firetruck', 'kitten']\n",
      "I am a Kangaroo located at coordinates (3,0)\n"
     ]
    }
   ],
   "source": [
    "class Marsupial:\n",
    "    def __init__(self):\n",
    "        self.pouch = []\n",
    "\n",
    "    def put_in_pouch(self, item):\n",
    "        self.pouch.append(item)\n",
    "\n",
    "    def pouch_contents(self):\n",
    "        return self.pouch\n",
    "\n",
    "\n",
    "class Kangaroo(Marsupial):\n",
    "    def __init__(self, x, y):\n",
    "        super().__init__()\n",
    "        self.x = x\n",
    "        self.y = y\n",
    "\n",
    "    def jump(self, dx, dy):\n",
    "        self.x += dx\n",
    "        self.y += dy\n",
    "\n",
    "    def __str__(self):\n",
    "        return f\"I am a Kangaroo located at coordinates ({self.x},{self.y})\"\n",
    "\n",
    "m = Marsupial()\n",
    "m.put_in_pouch('doll')                                                                  \n",
    "m.put_in_pouch('firetruck')\n",
    "m.put_in_pouch('kitten')\n",
    "print(m.pouch_contents())  \n",
    "\n",
    "k = Kangaroo(0, 0)\n",
    "print(k)  \n",
    "k.put_in_pouch('doll')\n",
    "k.put_in_pouch('firetruck')\n",
    "k.put_in_pouch('kitten')\n",
    "print(k.pouch_contents())  \n",
    "k.jump(1, 0)\n",
    "k.jump(1, 0)\n",
    "k.jump(1, 0)\n",
    "print(k)"
   ]
  },
  {
   "cell_type": "markdown",
   "id": "3cfdaf80",
   "metadata": {},
   "source": [
    "# Answer 4:"
   ]
  },
  {
   "cell_type": "code",
   "execution_count": 6,
   "id": "ba0cd74d",
   "metadata": {},
   "outputs": [
    {
     "name": "stdout",
     "output_type": "stream",
     "text": [
      "1\n",
      "10\n",
      "5\n",
      "16\n",
      "8\n",
      "4\n",
      "2\n",
      "1\n"
     ]
    }
   ],
   "source": [
    "def collatz(x):\n",
    "    print(x)                       \n",
    "    if x == 1:\n",
    "        return\n",
    "    elif x % 2 == 0:\n",
    "        collatz(x // 2)\n",
    "    else:\n",
    "        collatz(3 * x + 1)\n",
    "collatz(1)  \n",
    "collatz(10)"
   ]
  },
  {
   "cell_type": "markdown",
   "id": "4a5c54fb",
   "metadata": {},
   "source": [
    "# Answer 5:"
   ]
  },
  {
   "cell_type": "code",
   "execution_count": 3,
   "id": "7f2a523c",
   "metadata": {},
   "outputs": [
    {
     "name": "stdout",
     "output_type": "stream",
     "text": [
      "0\n",
      "1\n",
      "11\n",
      "1001"
     ]
    }
   ],
   "source": [
    "def binary(n):\n",
    "    if n == 0:\n",
    "        print(0, end=\"\")\n",
    "    elif n == 1:\n",
    "        print(1, end=\"\")\n",
    "    else:\n",
    "        binary(n // 2)\n",
    "        print(n % 2, end=\"\")\n",
    "\n",
    "binary(0)\n",
    "print()\n",
    "binary(1)\n",
    "print()\n",
    "binary(3)\n",
    "print()\n",
    "binary(9)"
   ]
  },
  {
   "cell_type": "markdown",
   "id": "a85ba1cd",
   "metadata": {},
   "source": [
    "# Answer 6:"
   ]
  },
  {
   "cell_type": "code",
   "execution_count": 1,
   "id": "d2e98b84",
   "metadata": {},
   "outputs": [
    {
     "name": "stdout",
     "output_type": "stream",
     "text": [
      "W3C Mission\n",
      "\tPrinciples\n"
     ]
    }
   ],
   "source": [
    "from html.parser import HTMLParser\n",
    "\n",
    "\n",
    "class HeadingParser(HTMLParser):\n",
    "    def __init__(self):\n",
    "        super().__init__()\n",
    "        self.indentation = 0\n",
    "        self.in_heading = False\n",
    "\n",
    "    def handle_starttag(self, tag, attrs):\n",
    "        if tag.startswith('h') and len(tag) == 2 and tag[1].isdigit():\n",
    "            self.in_heading = True\n",
    "            self.indentation = int(tag[1]) - 1\n",
    "\n",
    "    def handle_endtag(self, tag):\n",
    "        if tag.startswith('h') and len(tag) == 2 and tag[1].isdigit():\n",
    "            self.in_heading = False\n",
    "\n",
    "    def handle_data(self, data):\n",
    "        if self.in_heading:\n",
    "            indentation = '\\t' * self.indentation\n",
    "            print(indentation + data)\n",
    "\n",
    "\n",
    "infile = open('w3c.html')\n",
    "content = infile.read()\n",
    "infile.close()\n",
    "\n",
    "hp = HeadingParser()\n",
    "hp.feed(content)"
   ]
  },
  {
   "cell_type": "markdown",
   "id": "410cb711",
   "metadata": {},
   "source": [
    "# Answer 7:"
   ]
  },
  {
   "cell_type": "code",
   "execution_count": 11,
   "id": "f401ec83",
   "metadata": {},
   "outputs": [],
   "source": [
    "import urllib.request\n",
    "\n",
    "\n",
    "def webdir(url, depth, indent):\n",
    "    if depth == 0:\n",
    "        return\n",
    "\n",
    "    try:\n",
    "        response = urllib.request.urlopen(url)\n",
    "        page_contents = response.read().decode('utf-8')\n",
    "\n",
    "        # Print the current URL with appropriate indentation\n",
    "        print(' ' * indent + url)\n",
    "\n",
    "        # Find all the links in the page\n",
    "        links = find_links(page_contents)\n",
    "\n",
    "        # Recursively visit the linked pages\n",
    "        for link in links:\n",
    "            webdir(link, depth - 1, indent + 1)\n",
    "\n",
    "    except urllib.error.URLError:\n",
    "        # Handle URL errors, e.g., page not found\n",
    "        pass\n",
    "\n",
    "def find_links(page_contents):\n",
    "    # Implement your logic here to extract the links from the page contents\n",
    "    # You can use regular expressions or HTML parsing libraries like BeautifulSoup\n",
    "\n",
    "    # For the sake of this example, let's assume we have a list of hardcoded links\n",
    "    links = [\n",
    "        'http://reed.cs.depaul.edu/lperkovic/csc242/test2.html',\n",
    "        'http://reed.cs.depaul.edu/lperkovic/csc242/test4.html',\n",
    "        'http://reed.cs.depaul.edu/lperkovic/csc242/test3.html',\n",
    "        'http://reed.cs.depaul.edu/lperkovic/csc242/test4.html'\n",
    "    ]\n",
    "\n",
    "    return links\n",
    "\n",
    "webdir('http://reed.cs.depaul.edu/lperkovic/csc242/test1.html', 2, 0)"
   ]
  },
  {
   "cell_type": "markdown",
   "id": "4ac236ef",
   "metadata": {},
   "source": [
    "# Answer 8:"
   ]
  },
  {
   "cell_type": "markdown",
   "id": "3edf7441",
   "metadata": {},
   "source": [
    "Here are the SQL queries for the given database table:\n",
    "\n",
    "a) To check all the temperature data we :\n",
    "\n",
    "    SELECT Temperature_C FROM table_name;\n",
    "\n",
    "\n",
    "b) All the cities, but without repetition we :\n",
    "\n",
    "    SELECT DISTINCT City FROM table_name;\n",
    "\n",
    "\n",
    "c) All the records for India we:\n",
    "\n",
    "    SELECT * FROM table_name WHERE Country = 'India';\n",
    "\n",
    "\n",
    "d) All the Fall records we:\n",
    "\n",
    "    SELECT * FROM table_name WHERE Season = 'Fall';\n",
    "\n",
    "\n",
    "e) The city, country, and season for which the average rainfall is between 200 and 400 millimeters we:\n",
    "\n",
    "    SELECT City, Country, Season FROM table_name\n",
    "    WHERE Rainfall_mm BETWEEN 200 AND 400;\n",
    "\n",
    "\n",
    "f) The city and country for which the average Fall temperature is above 20 degrees, in increasing temperature order we:\n",
    "\n",
    "    SELECT City, Country FROM table_name\n",
    "    WHERE Season = 'Fall' AND Temperature_C > 20\n",
    "    ORDER BY Temperature_C ASC;\n",
    "\n",
    "\n",
    "g) The total annual rainfall for Cairo we:\n",
    "\n",
    "    SELECT SUM(Rainfall_mm) AS Total_Rainfall FROM table_name\n",
    "    WHERE City = 'Cairo';\n",
    "\n",
    "\n",
    "h) The total rainfall for each season we:\n",
    "\n",
    "    SELECT Season, SUM(Rainfall_mm) AS Total_Rainfall FROM table_name\n",
    "    GROUP BY Season;\n",
    "\n",
    "\n",
    "Note: Replace 'table_name' with the actual name of your table in the above queries."
   ]
  },
  {
   "cell_type": "markdown",
   "id": "9525dbaf",
   "metadata": {},
   "source": [
    "# Answer 9:"
   ]
  },
  {
   "cell_type": "code",
   "execution_count": 8,
   "id": "ce7a01e2",
   "metadata": {},
   "outputs": [
    {
     "name": "stdout",
     "output_type": "stream",
     "text": [
      "['THE', 'QUICK', 'BROWN', 'FOX', 'JUMPS', 'OVER', 'THE', 'LAZY', 'DOG']\n",
      "['the', 'quick', 'brown', 'fox', 'jumps', 'over', 'the', 'lazy', 'dog']\n",
      "[3, 5, 5, 3, 5, 4, 3, 4, 3]\n",
      "[['THE', 'the', 3], ['QUICK', 'quick', 5], ['BROWN', 'brown', 5], ['FOX', 'fox', 3], ['JUMPS', 'jumps', 5], ['OVER', 'over', 4], ['THE', 'the', 3], ['LAZY', 'lazy', 4], ['DOG', 'dog', 3]]\n",
      "['quick', 'brown', 'jumps', 'over', 'lazy']\n"
     ]
    }
   ],
   "source": [
    "words = ['The', 'quick', 'brown', 'fox', 'jumps', 'over', 'the', 'lazy', 'dog']    # answer 9\n",
    "\n",
    "# a) \n",
    "words_uppercase = [word.upper() for word in words]\n",
    "print(words_uppercase)\n",
    "\n",
    "# b)\n",
    "words_lowercase = [word.lower() for word in words]\n",
    "print(words_lowercase)\n",
    "\n",
    "# c) \n",
    "word_lengths = [len(word) for word in words]\n",
    "print(word_lengths)\n",
    "\n",
    "# d) \n",
    "word_info = [[word.upper(), word.lower(), len(word)] for word in words]\n",
    "print(word_info)\n",
    "\n",
    "# e) \n",
    "words_four_or_more = [word for word in words if len(word) >= 4]\n",
    "print(words_four_or_more)"
   ]
  }
 ],
 "metadata": {
  "kernelspec": {
   "display_name": "Python 3 (ipykernel)",
   "language": "python",
   "name": "python3"
  },
  "language_info": {
   "codemirror_mode": {
    "name": "ipython",
    "version": 3
   },
   "file_extension": ".py",
   "mimetype": "text/x-python",
   "name": "python",
   "nbconvert_exporter": "python",
   "pygments_lexer": "ipython3",
   "version": "3.10.9"
  }
 },
 "nbformat": 4,
 "nbformat_minor": 5
}
